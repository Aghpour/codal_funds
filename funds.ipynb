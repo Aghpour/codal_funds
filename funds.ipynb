{
 "cells": [
  {
   "cell_type": "code",
   "execution_count": null,
   "metadata": {},
   "outputs": [],
   "source": [
    "import requests\n",
    "import urllib.parse\n",
    "import json\n",
    "import re\n",
    "from IPython.display import clear_output"
   ]
  },
  {
   "cell_type": "code",
   "execution_count": null,
   "metadata": {},
   "outputs": [],
   "source": [
    "headers = {\"User-Agent\" : \"Mozilla/5.0 (Windows NT 10.0; Win64; x64; rv:109.0) Gecko/20100101 Firefox/111.0\"}\n",
    "symbol = 'کاردان'\n",
    "ticker = urllib.parse.quote(symbol, encoding='utf-8')\n",
    "url_1 = f'https://search.codal.ir/api/search/v2/q?&Audited=true&AuditorRef=-1&Category=3&Childs=false&CompanyState=0&CompanyType=3&Consolidatable=true&IsNotAudited=false&Isic=46430613&Length=-1&LetterType=-1&Mains=true&NotAudited=true&NotConsolidatable=true&PageNumber=1&Publisher=false&Symbol={ticker}&TracingNo=-1&search=true'\n",
    "\n",
    "response = requests.get(url_1, headers=headers)\n",
    "pages = json.loads(response.text)['Page']\n",
    "\n",
    "links_1 = []\n",
    "for page in range(pages):\n",
    "    page_url = f'https://search.codal.ir/api/search/v2/q?&Audited=true&AuditorRef=-1&Category=3&Childs=false&CompanyState=0&CompanyType=3&Consolidatable=true&IsNotAudited=false&Isic=46430613&Length=-1&LetterType=-1&Mains=true&NotAudited=true&NotConsolidatable=true&PageNumber={page+1}&Publisher=false&Symbol={ticker}&TracingNo=-1&search=true'\n",
    "    response = requests.get(page_url, headers=headers)\n",
    "    reports = json.loads(response.text)['Letters']\n",
    "    for report in reports:\n",
    "        AttachmentUrl = report['AttachmentUrl']\n",
    "        Title = report['Title'].replace('/', '')\n",
    "        TracingNo = report['TracingNo']\n",
    "        links_1.append([AttachmentUrl, Title, TracingNo])"
   ]
  },
  {
   "cell_type": "code",
   "execution_count": null,
   "metadata": {},
   "outputs": [],
   "source": [
    "pattern = r'DownloadFile\\.aspx\\?id='\n",
    "failed_link1 = []\n",
    "\n",
    "download_links = []\n",
    "for j, link in enumerate(links_1):\n",
    "    url = f'https://www.codal.ir{link[0]}'\n",
    "    response = requests.get(url, headers=headers)\n",
    "    page_source = response.text\n",
    "    match = re.search(r'DownloadFile\\.aspx\\?id=[^&#]+', page_source)\n",
    "    if match:\n",
    "        download_id = match.group(0)\n",
    "        download_link = f'https://www.codal.ir/Reports/{download_id}'\n",
    "        download_links.append(download_link)\n",
    "    else:\n",
    "        print(f'failed: {url}')\n",
    "        failed_link1.append(url)\n",
    "        download_link = f'https://www.codal.ir/Reports/'\n",
    "        download_links.append(download_link)\n",
    "\n",
    "clear_output(wait=True)\n",
    "print(f'failed: \\n{failed_link1}')"
   ]
  },
  {
   "cell_type": "code",
   "execution_count": null,
   "metadata": {},
   "outputs": [],
   "source": [
    "types = ['pdf', 'xlsx']\n",
    "err = 'خطای سیستمی | کدال'\n",
    "exl_type = '[Content_Types].xml'\n",
    "failed = []\n",
    "counter = 0\n",
    "for i, link in zip(download_links, links_1):\n",
    "    counter += 1\n",
    "    if len(i) <= 29:\n",
    "        clear_output(wait=True)\n",
    "        print(f'error: {counter} of {len(download_links)} there is no file {symbol}_{link[1]}_{link[2]}')\n",
    "        failed.append(f'{symbol}_{link[1]}_{link[2]}')\n",
    "        continue\n",
    "    else: \n",
    "        print(i)\n",
    "        response = requests.get(i, headers=headers)\n",
    "        if err in response.text[:100]:\n",
    "            clear_output(wait=True)\n",
    "            print(f'error: {counter} of {len(download_links)} there is no file {symbol}_{link[1]}_{link[2]}')\n",
    "            failed.append(f'{symbol}_{link[1]}_{link[2]}')\n",
    "            continue\n",
    "        else:\n",
    "            file_format = response.headers.get('content-disposition').split('=')[1].split('.')[-1][:-1]\n",
    "            if file_format not in types:\n",
    "                if exl_type in response.text[:100]:\n",
    "                    file_format = 'xlsx'\n",
    "                else:\n",
    "                    file_format = 'pdf'\n",
    "            with open(f'{symbol}_{link[1]}_{link[2]}.{file_format}', 'wb') as f:\n",
    "                f.write(response.content)\n",
    "            clear_output(wait=True)\n",
    "            print(f'saved: {counter} of {len(download_links)} {symbol}_{link[1]}_{link[2]}.{file_format}')\n",
    "\n"
   ]
  }
 ],
 "metadata": {
  "kernelspec": {
   "display_name": "Python 3",
   "language": "python",
   "name": "python3"
  },
  "language_info": {
   "codemirror_mode": {
    "name": "ipython",
    "version": 3
   },
   "file_extension": ".py",
   "mimetype": "text/x-python",
   "name": "python",
   "nbconvert_exporter": "python",
   "pygments_lexer": "ipython3",
   "version": "3.10.0"
  },
  "orig_nbformat": 4
 },
 "nbformat": 4,
 "nbformat_minor": 2
}
